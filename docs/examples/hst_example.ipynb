{
 "cells": [
  {
   "cell_type": "markdown",
   "id": "5bec0f44-8edf-473d-9daf-5c1b95feefc0",
   "metadata": {},
   "source": [
    "# HST \n",
    "\n",
    "HST images take very long to download, so the user might prefer to download the images manually (or maybe use private data) and then use ``set_HST_image`` to include the image into HostPhot's workflow.\n",
    "    \n",
    "The difference with other surveys is that HostPhot only handles one filter at a time when working with HST given the large combination of instruments and filters:"
   ]
  },
  {
   "cell_type": "code",
   "execution_count": 1,
   "id": "ef9e91fd-25e4-41e8-9dbe-ebc1c62903db",
   "metadata": {
    "execution": {
     "iopub.execute_input": "2023-05-05T10:25:10.713921Z",
     "iopub.status.busy": "2023-05-05T10:25:10.713755Z",
     "iopub.status.idle": "2023-05-05T10:25:17.403402Z",
     "shell.execute_reply": "2023-05-05T10:25:17.402802Z",
     "shell.execute_reply.started": "2023-05-05T10:25:10.713872Z"
    }
   },
   "outputs": [
    {
     "name": "stdout",
     "output_type": "stream",
     "text": [
      "HostPhot version: 2.6.0\n"
     ]
    }
   ],
   "source": [
    "import hostphot\n",
    "print('HostPhot version:', hostphot.__version__)"
   ]
  },
  {
   "cell_type": "code",
   "execution_count": 2,
   "id": "635ab702-f546-412a-81df-49bdffab7ec2",
   "metadata": {
    "execution": {
     "iopub.execute_input": "2023-05-05T10:25:17.404998Z",
     "iopub.status.busy": "2023-05-05T10:25:17.404747Z",
     "iopub.status.idle": "2023-05-05T10:25:17.714659Z",
     "shell.execute_reply": "2023-05-05T10:25:17.713996Z",
     "shell.execute_reply.started": "2023-05-05T10:25:17.404979Z"
    },
    "tags": []
   },
   "outputs": [],
   "source": [
    "from hostphot.cutouts import set_HST_image\n",
    "\n",
    "name = 'SN2011ee'\n",
    "ra, dec = 351.9889166667, +8.7772500000\n",
    "host_ra, host_dec = 351.98623877, +8.77895936\n",
    "survey = 'HST'\n",
    "filt = 'WFC3_UVIS_F275W'\n",
    "\n",
    "file = 'hst_16741_3d_wfc3_uvis_f275w_iepo3d_drc.fits'\n",
    "set_HST_image(file, filt, name)"
   ]
  },
  {
   "cell_type": "markdown",
   "id": "450b1245-128a-48f0-88cc-9029815c65f9",
   "metadata": {},
   "source": [
    "The mask can be performed in the usual way:"
   ]
  },
  {
   "cell_type": "code",
   "execution_count": 3,
   "id": "f1608beb-726b-4744-98a7-aa6f31d2f5b3",
   "metadata": {
    "execution": {
     "iopub.execute_input": "2023-05-05T10:25:17.715364Z",
     "iopub.status.busy": "2023-05-05T10:25:17.715228Z",
     "iopub.status.idle": "2023-05-05T10:25:32.924344Z",
     "shell.execute_reply": "2023-05-05T10:25:32.923969Z",
     "shell.execute_reply.started": "2023-05-05T10:25:17.715350Z"
    },
    "tags": []
   },
   "outputs": [],
   "source": [
    "from hostphot.image_masking import create_mask\n",
    "\n",
    "create_mask(name, host_ra, host_dec, filt, survey=survey, threshold=6)"
   ]
  },
  {
   "cell_type": "markdown",
   "id": "0f117310-eb75-43c1-97f2-41c720047ffc",
   "metadata": {},
   "source": [
    "Same thing with the photometry:"
   ]
  },
  {
   "cell_type": "code",
   "execution_count": 4,
   "id": "565df334-3916-452d-988c-c8da63c76ed0",
   "metadata": {
    "execution": {
     "iopub.execute_input": "2023-05-05T10:25:32.925055Z",
     "iopub.status.busy": "2023-05-05T10:25:32.924879Z",
     "iopub.status.idle": "2023-05-05T10:25:36.981981Z",
     "shell.execute_reply": "2023-05-05T10:25:36.981648Z",
     "shell.execute_reply.started": "2023-05-05T10:25:32.925038Z"
    },
    "tags": []
   },
   "outputs": [
    {
     "data": {
      "text/plain": [
       "{'name': 'SN2011ee',\n",
       " 'ra': 351.9889166667,\n",
       " 'dec': 8.77725,\n",
       " 'redshift': 0.0294468,\n",
       " 'survey': 'HST',\n",
       " 'WFC3_UVIS_F275W_3': 19.216330997223157,\n",
       " 'WFC3_UVIS_F275W_3_err': 0.010700905390909725,\n",
       " 'WFC3_UVIS_F275W_3_flux': 69.69300555478219,\n",
       " 'WFC3_UVIS_F275W_3_flux_err': 0.6779114129675258,\n",
       " 'WFC3_UVIS_F275W_4': 18.558496365300403,\n",
       " 'WFC3_UVIS_F275W_4_err': 0.0078856391137125,\n",
       " 'WFC3_UVIS_F275W_4_flux': 127.73886321170855,\n",
       " 'WFC3_UVIS_F275W_4_flux_err': 0.9053093552572765}"
      ]
     },
     "execution_count": 4,
     "metadata": {},
     "output_type": "execute_result"
    }
   ],
   "source": [
    "import hostphot.local_photometry as lp\n",
    "\n",
    "ap_radii = [3, 4] \n",
    "z = 0.0294468\n",
    "\n",
    "results = lp.multi_band_phot(name, ra, dec, z, filters=filt,\n",
    "                             survey=survey, ap_radii=ap_radii,\n",
    "                             use_mask=True, correct_extinction=True,\n",
    "                             save_plots=True, raise_exception=True)\n",
    "results"
   ]
  },
  {
   "cell_type": "code",
   "execution_count": 5,
   "id": "54c76dc5-677b-4a43-8c16-1daad0154c2c",
   "metadata": {
    "execution": {
     "iopub.execute_input": "2023-05-05T10:25:36.982647Z",
     "iopub.status.busy": "2023-05-05T10:25:36.982510Z",
     "iopub.status.idle": "2023-05-05T10:25:38.214298Z",
     "shell.execute_reply": "2023-05-05T10:25:38.213774Z",
     "shell.execute_reply.started": "2023-05-05T10:25:36.982636Z"
    },
    "tags": []
   },
   "outputs": [
    {
     "data": {
      "text/plain": [
       "{'name': 'SN2011ee',\n",
       " 'host_ra': 351.98623877,\n",
       " 'host_dec': 8.77895936,\n",
       " 'survey': 'HST',\n",
       " 'WFC3_UVIS_F275W': 16.928938161038392,\n",
       " 'WFC3_UVIS_F275W_err': 0.037112242979449296,\n",
       " 'WFC3_UVIS_F275W_flux': 572.8355467965029,\n",
       " 'WFC3_UVIS_F275W_flux_err': 19.55931311133422}"
      ]
     },
     "execution_count": 5,
     "metadata": {},
     "output_type": "execute_result"
    }
   ],
   "source": [
    "import hostphot.global_photometry as gp\n",
    "\n",
    "results = gp.multi_band_phot(name, host_ra, host_dec, filters=filt,\n",
    "                             survey=survey, ra=ra, dec=dec,\n",
    "                             use_mask=True, correct_extinction=True,\n",
    "                             threshold=6, common_aperture=False,\n",
    "                             save_plots=True, raise_exception=True)\n",
    "results"
   ]
  },
  {
   "cell_type": "code",
   "execution_count": null,
   "id": "adc7cbe6-be31-42bb-a105-9d808bc24f87",
   "metadata": {},
   "outputs": [],
   "source": []
  }
 ],
 "metadata": {
  "kernelspec": {
   "display_name": "Python 3 (ipykernel)",
   "language": "python",
   "name": "python3"
  },
  "language_info": {
   "codemirror_mode": {
    "name": "ipython",
    "version": 3
   },
   "file_extension": ".py",
   "mimetype": "text/x-python",
   "name": "python",
   "nbconvert_exporter": "python",
   "pygments_lexer": "ipython3",
   "version": "3.10.4"
  }
 },
 "nbformat": 4,
 "nbformat_minor": 5
}
